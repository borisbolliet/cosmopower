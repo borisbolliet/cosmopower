{
 "cells": [
  {
   "cell_type": "code",
   "execution_count": 1,
   "id": "03079370",
   "metadata": {},
   "outputs": [],
   "source": [
    "import tensorflow as tf\n",
    "import cosmopower as cp\n",
    "import yaml\n",
    "from classy_sz import Class\n",
    "import numpy as np\n",
    "import pyDOE as pyDOE\n",
    "import os"
   ]
  },
  {
   "cell_type": "markdown",
   "id": "638710a3",
   "metadata": {},
   "source": [
    "# Preliminary set-up for generating spectra for cosmopower training"
   ]
  },
  {
   "cell_type": "markdown",
   "id": "3ad980e3",
   "metadata": {},
   "source": [
    "## Read the yaml file"
   ]
  },
  {
   "cell_type": "code",
   "execution_count": 2,
   "id": "16618afa",
   "metadata": {},
   "outputs": [
    {
     "name": "stdout",
     "output_type": "stream",
     "text": [
      "File exist\n",
      "File exist\n",
      "File exist\n",
      "File exist\n",
      "File exist\n"
     ]
    }
   ],
   "source": [
    "path_to_cosmopower_dir = '/Users/boris/Work/CLASS-SZ/SO-SZ/cosmopower'\n",
    "\n",
    "data_dir_name = 'ACTPol_lite_DR4_baseLCDM_taup_hip'\n",
    "\n",
    "cobaya_yaml_file = path_to_cosmopower_dir+'/cosmopower/training/spectra_generation_scripts/yaml_files/ACTPol_lite_DR4_baseLCDM_taup_hip.yaml'\n",
    "\n",
    "try:\n",
    "    os.mkdir(path_to_cosmopower_dir+'/cosmopower/training/training_data/'+data_dir_name)\n",
    "except FileExistsError:\n",
    "    print(\"File exist\")\n",
    "    \n",
    "try:\n",
    "    os.mkdir(path_to_cosmopower_dir+'/cosmopower/training/training_data/'+data_dir_name+'/TT')\n",
    "except FileExistsError:\n",
    "    print(\"File exist\")\n",
    "\n",
    "try:\n",
    "    os.mkdir(path_to_cosmopower_dir+'/cosmopower/training/training_data/'+data_dir_name+'/TE')\n",
    "except FileExistsError:\n",
    "    print(\"File exist\")\n",
    "\n",
    "try:\n",
    "    os.mkdir(path_to_cosmopower_dir+'/cosmopower/training/training_data/'+data_dir_name+'/EE')\n",
    "except FileExistsError:\n",
    "    print(\"File exist\")\n",
    "    \n",
    "try:\n",
    "    os.mkdir(path_to_cosmopower_dir+'/cosmopower/training/training_data/'+data_dir_name+'/PP')\n",
    "except FileExistsError:\n",
    "    print(\"File exist\")\n",
    "\n",
    "# get path to the folder of this script\n",
    "# folder_path = os.path.abspath(os.path.dirname(__file__))\n",
    "folder_path = path_to_cosmopower_dir+'/cosmopower/training/training_data/'+data_dir_name"
   ]
  },
  {
   "cell_type": "code",
   "execution_count": 3,
   "id": "d08f8d79",
   "metadata": {},
   "outputs": [],
   "source": [
    "with open(cobaya_yaml_file) as f:\n",
    "    dict_from_yaml_file = yaml.load(f,Loader=yaml.FullLoader)"
   ]
  },
  {
   "cell_type": "code",
   "execution_count": 4,
   "id": "12d3c3d1",
   "metadata": {},
   "outputs": [],
   "source": [
    "cosmo_params = ['logA','n_s','theta_s_1e2','omega_b','omega_cdm','tau_reio']\n",
    "cosmo_params_names_in_class = ['ln10^{10}A_s','n_s','100*theta_s','omega_b','omega_cdm','tau_reio']\n",
    "\n",
    "# last column of Table 1 of https://arxiv.org/pdf/1807.06209.pdf\n",
    "p18_sigmas = [0.014,0.0042,0.00031,0.00015,0.0012,0.0074]\n",
    "p18_values = [3.043,0.9652,1.04089,0.02233,0.1198,0.0540]\n",
    "\n",
    "set_width_from_plc18 = True\n",
    "\n",
    "\n",
    "derived_params_names = ['h',\n",
    "                        'sigma8',\n",
    "                        'YHe',\n",
    "                        'z_reio',\n",
    "                        'Neff',\n",
    "                        'tau_rec',\n",
    "                        'z_rec',\n",
    "                        'rs_rec',\n",
    "                        'ra_rec',\n",
    "                        'tau_star',\n",
    "                        'z_star',\n",
    "                        'rs_star',\n",
    "                        'ra_star']"
   ]
  },
  {
   "cell_type": "code",
   "execution_count": 5,
   "id": "f356facc",
   "metadata": {},
   "outputs": [],
   "source": [
    "param_list_all = []\n",
    "param_list_varied = {}\n",
    "param_list_varied_cosmo = {}\n",
    "param_list_other = []\n",
    "pdict = dict_from_yaml_file['params']\n",
    "for (k,v) in zip(pdict.keys(),pdict.values()):\n",
    "    #print(k,v)\n",
    "    #print(k)\n",
    "    if 'prior' in v:\n",
    "        #print('varied param')\n",
    "#         print(v['prior'])\n",
    "        param_list_varied[k] = {}\n",
    "        param_list_varied[k]['bounds'] ={}\n",
    "        if ('min' and 'max') in v['prior']:\n",
    "#             print(v['prior']['min'])\n",
    "            param_list_varied[k]['bounds']={'min':v['prior']['min'],'max':v['prior']['max']}\n",
    "        elif 'dist' in v['prior']:\n",
    "#             print(k,v['prior'])\n",
    "            param_list_varied[k]['bounds']={'min':v['prior']['loc']-5.*v['prior']['scale'],'max':v['prior']['loc']+5.*v['prior']['scale']}\n",
    "            if k == 'tau_reio':\n",
    "                if param_list_varied[k]['bounds']['min']<0:\n",
    "                    param_list_varied[k]['bounds'] = {'min':0.001,'max':v['prior']['loc']+5.*v['prior']['scale']}\n",
    "                    \n",
    "    else:\n",
    "        param_list_other.append(k)\n",
    "\n",
    "for (p,v) in zip(param_list_varied.keys(),param_list_varied.values()):\n",
    "    if p in cosmo_params:\n",
    "#         param_list_varied_cosmo[p]['bounds']={}\n",
    "#         param_list_varied_cosmo[p]['bounds']=v\n",
    "        param_list_varied_cosmo[p]=v\n",
    "        param_list_varied_cosmo[p]['class_name'] = {}\n",
    "        param_list_varied_cosmo[p]['class_name'] = cosmo_params_names_in_class[cosmo_params.index(p)]\n",
    "\n",
    "\n",
    "if set_width_from_plc18:\n",
    "    for p in param_list_varied_cosmo.keys():\n",
    "        param_list_varied_cosmo[p]['bounds']['min'] = p18_values[cosmo_params.index(p)]-20.*p18_sigmas[cosmo_params.index(p)]\n",
    "        param_list_varied_cosmo[p]['bounds']['max'] = p18_values[cosmo_params.index(p)]+20.*p18_sigmas[cosmo_params.index(p)]\n",
    "        if p == 'tau_reio':\n",
    "            if param_list_varied_cosmo[p]['bounds']['min']<0:\n",
    "                param_list_varied_cosmo[p]['bounds']['min'] = 0.01\n",
    "\n",
    "\n",
    "param_list_varied_cosmo\n",
    "# number of parameters and samples\n",
    "n_params = len(param_list_varied_cosmo)\n",
    "n_samples = 12 #int(sys.argv[1])\n",
    "n_processes  = 4 #int(sys.argv[2])\n",
    "n_samples_per_process = int(n_samples/n_processes)"
   ]
  },
  {
   "cell_type": "markdown",
   "id": "85067d62",
   "metadata": {},
   "source": [
    "## Testing the lh bounds"
   ]
  },
  {
   "cell_type": "code",
   "execution_count": 41,
   "id": "24a6b5fa",
   "metadata": {},
   "outputs": [],
   "source": [
    "# Function to generate all binary strings\n",
    "def generateAllBinaryStrings(n, arr, i,combs):\n",
    "    if i == n:\n",
    "        #print(len(arr),arr)\n",
    "        combs.append(arr.copy())\n",
    "        return\n",
    "\n",
    "    arr[i] = 0\n",
    "    generateAllBinaryStrings(n, arr, i + 1,combs)\n",
    "\n",
    "    arr[i] = 1\n",
    "    generateAllBinaryStrings(n, arr, i + 1,combs)\n",
    "    \n",
    "n = 6\n",
    "arr = [None] * n\n",
    "combs = []\n",
    "\n",
    "generateAllBinaryStrings(n, arr, 0,combs)"
   ]
  },
  {
   "cell_type": "code",
   "execution_count": 236,
   "id": "703fe59f",
   "metadata": {},
   "outputs": [
    {
     "name": "stdout",
     "output_type": "stream",
     "text": [
      "{'ln10^{10}A_s': 2.763, 'n_s': 0.8812, '100*theta_s': 1.03469, 'omega_b': 0.01933, 'omega_cdm': 0.09580000000000001, 'tau_reio': 0.01}\n",
      "done\n",
      "{'ln10^{10}A_s': 2.763, 'n_s': 0.8812, '100*theta_s': 1.03469, 'omega_b': 0.01933, 'omega_cdm': 0.09580000000000001, 'tau_reio': 0.202}\n",
      "done\n",
      "{'ln10^{10}A_s': 2.763, 'n_s': 0.8812, '100*theta_s': 1.03469, 'omega_b': 0.01933, 'omega_cdm': 0.1438, 'tau_reio': 0.01}\n",
      "done\n",
      "{'ln10^{10}A_s': 2.763, 'n_s': 0.8812, '100*theta_s': 1.03469, 'omega_b': 0.01933, 'omega_cdm': 0.1438, 'tau_reio': 0.202}\n",
      "done\n",
      "{'ln10^{10}A_s': 2.763, 'n_s': 0.8812, '100*theta_s': 1.03469, 'omega_b': 0.02533, 'omega_cdm': 0.09580000000000001, 'tau_reio': 0.01}\n",
      "done\n",
      "{'ln10^{10}A_s': 2.763, 'n_s': 0.8812, '100*theta_s': 1.03469, 'omega_b': 0.02533, 'omega_cdm': 0.09580000000000001, 'tau_reio': 0.202}\n",
      "done\n",
      "{'ln10^{10}A_s': 2.763, 'n_s': 0.8812, '100*theta_s': 1.03469, 'omega_b': 0.02533, 'omega_cdm': 0.1438, 'tau_reio': 0.01}\n",
      "done\n",
      "{'ln10^{10}A_s': 2.763, 'n_s': 0.8812, '100*theta_s': 1.03469, 'omega_b': 0.02533, 'omega_cdm': 0.1438, 'tau_reio': 0.202}\n",
      "done\n",
      "{'ln10^{10}A_s': 2.763, 'n_s': 0.8812, '100*theta_s': 1.04709, 'omega_b': 0.01933, 'omega_cdm': 0.09580000000000001, 'tau_reio': 0.01}\n",
      "done\n",
      "{'ln10^{10}A_s': 2.763, 'n_s': 0.8812, '100*theta_s': 1.04709, 'omega_b': 0.01933, 'omega_cdm': 0.09580000000000001, 'tau_reio': 0.202}\n",
      "done\n",
      "{'ln10^{10}A_s': 2.763, 'n_s': 0.8812, '100*theta_s': 1.04709, 'omega_b': 0.01933, 'omega_cdm': 0.1438, 'tau_reio': 0.01}\n",
      "done\n",
      "{'ln10^{10}A_s': 2.763, 'n_s': 0.8812, '100*theta_s': 1.04709, 'omega_b': 0.01933, 'omega_cdm': 0.1438, 'tau_reio': 0.202}\n",
      "done\n",
      "{'ln10^{10}A_s': 2.763, 'n_s': 0.8812, '100*theta_s': 1.04709, 'omega_b': 0.02533, 'omega_cdm': 0.09580000000000001, 'tau_reio': 0.01}\n",
      "done\n",
      "{'ln10^{10}A_s': 2.763, 'n_s': 0.8812, '100*theta_s': 1.04709, 'omega_b': 0.02533, 'omega_cdm': 0.09580000000000001, 'tau_reio': 0.202}\n",
      "done\n",
      "{'ln10^{10}A_s': 2.763, 'n_s': 0.8812, '100*theta_s': 1.04709, 'omega_b': 0.02533, 'omega_cdm': 0.1438, 'tau_reio': 0.01}\n",
      "done\n",
      "{'ln10^{10}A_s': 2.763, 'n_s': 0.8812, '100*theta_s': 1.04709, 'omega_b': 0.02533, 'omega_cdm': 0.1438, 'tau_reio': 0.202}\n",
      "done\n",
      "{'ln10^{10}A_s': 2.763, 'n_s': 1.0492, '100*theta_s': 1.03469, 'omega_b': 0.01933, 'omega_cdm': 0.09580000000000001, 'tau_reio': 0.01}\n",
      "done\n",
      "{'ln10^{10}A_s': 2.763, 'n_s': 1.0492, '100*theta_s': 1.03469, 'omega_b': 0.01933, 'omega_cdm': 0.09580000000000001, 'tau_reio': 0.202}\n",
      "done\n",
      "{'ln10^{10}A_s': 2.763, 'n_s': 1.0492, '100*theta_s': 1.03469, 'omega_b': 0.01933, 'omega_cdm': 0.1438, 'tau_reio': 0.01}\n",
      "done\n",
      "{'ln10^{10}A_s': 2.763, 'n_s': 1.0492, '100*theta_s': 1.03469, 'omega_b': 0.01933, 'omega_cdm': 0.1438, 'tau_reio': 0.202}\n",
      "done\n",
      "{'ln10^{10}A_s': 2.763, 'n_s': 1.0492, '100*theta_s': 1.03469, 'omega_b': 0.02533, 'omega_cdm': 0.09580000000000001, 'tau_reio': 0.01}\n",
      "done\n",
      "{'ln10^{10}A_s': 2.763, 'n_s': 1.0492, '100*theta_s': 1.03469, 'omega_b': 0.02533, 'omega_cdm': 0.09580000000000001, 'tau_reio': 0.202}\n",
      "done\n",
      "{'ln10^{10}A_s': 2.763, 'n_s': 1.0492, '100*theta_s': 1.03469, 'omega_b': 0.02533, 'omega_cdm': 0.1438, 'tau_reio': 0.01}\n",
      "done\n",
      "{'ln10^{10}A_s': 2.763, 'n_s': 1.0492, '100*theta_s': 1.03469, 'omega_b': 0.02533, 'omega_cdm': 0.1438, 'tau_reio': 0.202}\n",
      "done\n",
      "{'ln10^{10}A_s': 2.763, 'n_s': 1.0492, '100*theta_s': 1.04709, 'omega_b': 0.01933, 'omega_cdm': 0.09580000000000001, 'tau_reio': 0.01}\n",
      "done\n",
      "{'ln10^{10}A_s': 2.763, 'n_s': 1.0492, '100*theta_s': 1.04709, 'omega_b': 0.01933, 'omega_cdm': 0.09580000000000001, 'tau_reio': 0.202}\n",
      "done\n",
      "{'ln10^{10}A_s': 2.763, 'n_s': 1.0492, '100*theta_s': 1.04709, 'omega_b': 0.01933, 'omega_cdm': 0.1438, 'tau_reio': 0.01}\n",
      "done\n",
      "{'ln10^{10}A_s': 2.763, 'n_s': 1.0492, '100*theta_s': 1.04709, 'omega_b': 0.01933, 'omega_cdm': 0.1438, 'tau_reio': 0.202}\n",
      "done\n",
      "{'ln10^{10}A_s': 2.763, 'n_s': 1.0492, '100*theta_s': 1.04709, 'omega_b': 0.02533, 'omega_cdm': 0.09580000000000001, 'tau_reio': 0.01}\n",
      "done\n",
      "{'ln10^{10}A_s': 2.763, 'n_s': 1.0492, '100*theta_s': 1.04709, 'omega_b': 0.02533, 'omega_cdm': 0.09580000000000001, 'tau_reio': 0.202}\n",
      "done\n",
      "{'ln10^{10}A_s': 2.763, 'n_s': 1.0492, '100*theta_s': 1.04709, 'omega_b': 0.02533, 'omega_cdm': 0.1438, 'tau_reio': 0.01}\n",
      "done\n",
      "{'ln10^{10}A_s': 2.763, 'n_s': 1.0492, '100*theta_s': 1.04709, 'omega_b': 0.02533, 'omega_cdm': 0.1438, 'tau_reio': 0.202}\n",
      "done\n",
      "{'ln10^{10}A_s': 3.3230000000000004, 'n_s': 0.8812, '100*theta_s': 1.03469, 'omega_b': 0.01933, 'omega_cdm': 0.09580000000000001, 'tau_reio': 0.01}\n",
      "done\n",
      "{'ln10^{10}A_s': 3.3230000000000004, 'n_s': 0.8812, '100*theta_s': 1.03469, 'omega_b': 0.01933, 'omega_cdm': 0.09580000000000001, 'tau_reio': 0.202}\n",
      "done\n",
      "{'ln10^{10}A_s': 3.3230000000000004, 'n_s': 0.8812, '100*theta_s': 1.03469, 'omega_b': 0.01933, 'omega_cdm': 0.1438, 'tau_reio': 0.01}\n",
      "done\n",
      "{'ln10^{10}A_s': 3.3230000000000004, 'n_s': 0.8812, '100*theta_s': 1.03469, 'omega_b': 0.01933, 'omega_cdm': 0.1438, 'tau_reio': 0.202}\n",
      "done\n",
      "{'ln10^{10}A_s': 3.3230000000000004, 'n_s': 0.8812, '100*theta_s': 1.03469, 'omega_b': 0.02533, 'omega_cdm': 0.09580000000000001, 'tau_reio': 0.01}\n",
      "done\n",
      "{'ln10^{10}A_s': 3.3230000000000004, 'n_s': 0.8812, '100*theta_s': 1.03469, 'omega_b': 0.02533, 'omega_cdm': 0.09580000000000001, 'tau_reio': 0.202}\n",
      "done\n",
      "{'ln10^{10}A_s': 3.3230000000000004, 'n_s': 0.8812, '100*theta_s': 1.03469, 'omega_b': 0.02533, 'omega_cdm': 0.1438, 'tau_reio': 0.01}\n",
      "done\n",
      "{'ln10^{10}A_s': 3.3230000000000004, 'n_s': 0.8812, '100*theta_s': 1.03469, 'omega_b': 0.02533, 'omega_cdm': 0.1438, 'tau_reio': 0.202}\n",
      "done\n",
      "{'ln10^{10}A_s': 3.3230000000000004, 'n_s': 0.8812, '100*theta_s': 1.04709, 'omega_b': 0.01933, 'omega_cdm': 0.09580000000000001, 'tau_reio': 0.01}\n",
      "done\n",
      "{'ln10^{10}A_s': 3.3230000000000004, 'n_s': 0.8812, '100*theta_s': 1.04709, 'omega_b': 0.01933, 'omega_cdm': 0.09580000000000001, 'tau_reio': 0.202}\n",
      "done\n",
      "{'ln10^{10}A_s': 3.3230000000000004, 'n_s': 0.8812, '100*theta_s': 1.04709, 'omega_b': 0.01933, 'omega_cdm': 0.1438, 'tau_reio': 0.01}\n",
      "done\n",
      "{'ln10^{10}A_s': 3.3230000000000004, 'n_s': 0.8812, '100*theta_s': 1.04709, 'omega_b': 0.01933, 'omega_cdm': 0.1438, 'tau_reio': 0.202}\n",
      "done\n",
      "{'ln10^{10}A_s': 3.3230000000000004, 'n_s': 0.8812, '100*theta_s': 1.04709, 'omega_b': 0.02533, 'omega_cdm': 0.09580000000000001, 'tau_reio': 0.01}\n",
      "done\n",
      "{'ln10^{10}A_s': 3.3230000000000004, 'n_s': 0.8812, '100*theta_s': 1.04709, 'omega_b': 0.02533, 'omega_cdm': 0.09580000000000001, 'tau_reio': 0.202}\n",
      "done\n",
      "{'ln10^{10}A_s': 3.3230000000000004, 'n_s': 0.8812, '100*theta_s': 1.04709, 'omega_b': 0.02533, 'omega_cdm': 0.1438, 'tau_reio': 0.01}\n",
      "done\n",
      "{'ln10^{10}A_s': 3.3230000000000004, 'n_s': 0.8812, '100*theta_s': 1.04709, 'omega_b': 0.02533, 'omega_cdm': 0.1438, 'tau_reio': 0.202}\n",
      "done\n",
      "{'ln10^{10}A_s': 3.3230000000000004, 'n_s': 1.0492, '100*theta_s': 1.03469, 'omega_b': 0.01933, 'omega_cdm': 0.09580000000000001, 'tau_reio': 0.01}\n",
      "done\n",
      "{'ln10^{10}A_s': 3.3230000000000004, 'n_s': 1.0492, '100*theta_s': 1.03469, 'omega_b': 0.01933, 'omega_cdm': 0.09580000000000001, 'tau_reio': 0.202}\n",
      "done\n",
      "{'ln10^{10}A_s': 3.3230000000000004, 'n_s': 1.0492, '100*theta_s': 1.03469, 'omega_b': 0.01933, 'omega_cdm': 0.1438, 'tau_reio': 0.01}\n",
      "done\n",
      "{'ln10^{10}A_s': 3.3230000000000004, 'n_s': 1.0492, '100*theta_s': 1.03469, 'omega_b': 0.01933, 'omega_cdm': 0.1438, 'tau_reio': 0.202}\n",
      "done\n",
      "{'ln10^{10}A_s': 3.3230000000000004, 'n_s': 1.0492, '100*theta_s': 1.03469, 'omega_b': 0.02533, 'omega_cdm': 0.09580000000000001, 'tau_reio': 0.01}\n",
      "done\n",
      "{'ln10^{10}A_s': 3.3230000000000004, 'n_s': 1.0492, '100*theta_s': 1.03469, 'omega_b': 0.02533, 'omega_cdm': 0.09580000000000001, 'tau_reio': 0.202}\n",
      "done\n",
      "{'ln10^{10}A_s': 3.3230000000000004, 'n_s': 1.0492, '100*theta_s': 1.03469, 'omega_b': 0.02533, 'omega_cdm': 0.1438, 'tau_reio': 0.01}\n",
      "done\n",
      "{'ln10^{10}A_s': 3.3230000000000004, 'n_s': 1.0492, '100*theta_s': 1.03469, 'omega_b': 0.02533, 'omega_cdm': 0.1438, 'tau_reio': 0.202}\n",
      "done\n",
      "{'ln10^{10}A_s': 3.3230000000000004, 'n_s': 1.0492, '100*theta_s': 1.04709, 'omega_b': 0.01933, 'omega_cdm': 0.09580000000000001, 'tau_reio': 0.01}\n",
      "done\n",
      "{'ln10^{10}A_s': 3.3230000000000004, 'n_s': 1.0492, '100*theta_s': 1.04709, 'omega_b': 0.01933, 'omega_cdm': 0.09580000000000001, 'tau_reio': 0.202}\n",
      "done\n",
      "{'ln10^{10}A_s': 3.3230000000000004, 'n_s': 1.0492, '100*theta_s': 1.04709, 'omega_b': 0.01933, 'omega_cdm': 0.1438, 'tau_reio': 0.01}\n",
      "done\n",
      "{'ln10^{10}A_s': 3.3230000000000004, 'n_s': 1.0492, '100*theta_s': 1.04709, 'omega_b': 0.01933, 'omega_cdm': 0.1438, 'tau_reio': 0.202}\n",
      "done\n",
      "{'ln10^{10}A_s': 3.3230000000000004, 'n_s': 1.0492, '100*theta_s': 1.04709, 'omega_b': 0.02533, 'omega_cdm': 0.09580000000000001, 'tau_reio': 0.01}\n"
     ]
    },
    {
     "name": "stdout",
     "output_type": "stream",
     "text": [
      "done\n",
      "{'ln10^{10}A_s': 3.3230000000000004, 'n_s': 1.0492, '100*theta_s': 1.04709, 'omega_b': 0.02533, 'omega_cdm': 0.09580000000000001, 'tau_reio': 0.202}\n",
      "done\n",
      "{'ln10^{10}A_s': 3.3230000000000004, 'n_s': 1.0492, '100*theta_s': 1.04709, 'omega_b': 0.02533, 'omega_cdm': 0.1438, 'tau_reio': 0.01}\n",
      "done\n",
      "{'ln10^{10}A_s': 3.3230000000000004, 'n_s': 1.0492, '100*theta_s': 1.04709, 'omega_b': 0.02533, 'omega_cdm': 0.1438, 'tau_reio': 0.202}\n",
      "done\n"
     ]
    }
   ],
   "source": [
    "for ic in range(len(combs)):\n",
    "    class_params_dict = {}\n",
    "    for ik,k in enumerate(param_list_varied_cosmo.keys()):\n",
    "        if combs[ic][ik] == 0:\n",
    "            class_params_dict[param_list_varied_cosmo[k]['class_name']] = param_list_varied_cosmo[k]['bounds']['min']\n",
    "        else:\n",
    "            class_params_dict[param_list_varied_cosmo[k]['class_name']] = param_list_varied_cosmo[k]['bounds']['max']\n",
    "    print(class_params_dict)\n",
    "\n",
    "    cosmo = Class()\n",
    "    lmax = dict_from_yaml_file['theory']['classy']['extra_args']['l_max_scalars']\n",
    "    # Define cosmology (what is not specified will be set to CLASS default parameters)\n",
    "    params = {'output': 'tCl pCl lCl',\n",
    "              'lensing': 'yes',\n",
    "              'l_max_scalars': lmax\n",
    "              }\n",
    "\n",
    "    cosmo.set(params)\n",
    "    cosmo.set(class_params_dict)\n",
    "    # cosmo.set(classy_precision)\n",
    "    cosmo.compute()\n",
    "    print('done')"
   ]
  },
  {
   "cell_type": "markdown",
   "id": "101bfb76",
   "metadata": {},
   "source": [
    "## Set up wanted derived parameters"
   ]
  },
  {
   "cell_type": "code",
   "execution_count": 42,
   "id": "354f49d8",
   "metadata": {},
   "outputs": [
    {
     "name": "stdout",
     "output_type": "stream",
     "text": [
      "{'ln10^{10}A_s': 2.763, 'n_s': 0.8812, '100*theta_s': 1.03469, 'omega_b': 0.01933, 'omega_cdm': 0.09580000000000001, 'tau_reio': 0.01}\n",
      "done\n"
     ]
    }
   ],
   "source": [
    "ic = 0\n",
    "class_params_dict = {}\n",
    "for ik,k in enumerate(param_list_varied_cosmo.keys()):\n",
    "    if combs[ic][ik] == 0:\n",
    "        class_params_dict[param_list_varied_cosmo[k]['class_name']] = param_list_varied_cosmo[k]['bounds']['min']\n",
    "    else:\n",
    "        class_params_dict[param_list_varied_cosmo[k]['class_name']] = param_list_varied_cosmo[k]['bounds']['max']\n",
    "print(class_params_dict)\n",
    "\n",
    "cosmo = Class()\n",
    "lmax = dict_from_yaml_file['theory']['classy']['extra_args']['l_max_scalars']\n",
    "# Define cosmology (what is not specified will be set to CLASS default parameters)\n",
    "params = {'output': 'tCl pCl lCl mPk',\n",
    "          'lensing': 'yes',\n",
    "          'l_max_scalars': lmax\n",
    "          }\n",
    "\n",
    "cosmo.set(params)\n",
    "cosmo.set(class_params_dict)\n",
    "# cosmo.set(classy_precision)\n",
    "cosmo.compute()\n",
    "print('done')\n",
    "    "
   ]
  },
  {
   "cell_type": "code",
   "execution_count": 43,
   "id": "ce9e8d0e",
   "metadata": {},
   "outputs": [
    {
     "data": {
      "text/plain": [
       "{'h': 0.7280517,\n",
       " 'sigma8': 0.6225341755994319,\n",
       " 'YHe': 0.24397050859335379,\n",
       " 'z_reio': 2.2746963500976562,\n",
       " 'Neff': 3.0460000000000003,\n",
       " 'tau_rec': 295.2505191940784,\n",
       " 'z_rec': 1090.4809846009816,\n",
       " 'rs_rec': 153.90111589573763,\n",
       " 'ra_rec': 14874.138913969879,\n",
       " 'tau_star': 295.1586607345968,\n",
       " 'z_star': 1090.9241878496293,\n",
       " 'rs_star': 153.85833768262367,\n",
       " 'ra_star': 14874.23077262171}"
      ]
     },
     "execution_count": 43,
     "metadata": {},
     "output_type": "execute_result"
    }
   ],
   "source": [
    "\n",
    "derp = {}\n",
    "for p in derived_params_names:\n",
    "    derp.update(cosmo.get_current_derived_parameters([p]))\n",
    "\n",
    "\n",
    "derp\n"
   ]
  },
  {
   "cell_type": "markdown",
   "id": "6a389e72",
   "metadata": {},
   "source": [
    "## Generate the latin hyper cube of parameters"
   ]
  },
  {
   "cell_type": "code",
   "execution_count": 44,
   "id": "291fb85f",
   "metadata": {},
   "outputs": [
    {
     "name": "stdout",
     "output_type": "stream",
     "text": [
      "doing 4 times 3 calculations\n"
     ]
    }
   ],
   "source": [
    "\n",
    "print('doing %d times %d calculations'%(n_processes,n_samples_per_process))\n",
    "\n",
    "for (k,v) in zip(param_list_varied_cosmo.keys(),param_list_varied_cosmo.values()):\n",
    "    param_list_varied_cosmo[k]['array'] = {}\n",
    "    param_list_varied_cosmo[k]['array'] = np.linspace(param_list_varied_cosmo[k]['bounds']['min'],param_list_varied_cosmo[k]['bounds']['max'],n_samples)\n",
    "    "
   ]
  },
  {
   "cell_type": "code",
   "execution_count": 45,
   "id": "00bac37f",
   "metadata": {},
   "outputs": [
    {
     "data": {
      "text/plain": [
       "array([[3.22118182, 0.97283636, 1.04370818, 0.02314818, 0.10452727,\n",
       "        0.07981818],\n",
       "       [2.763     , 0.92701818, 1.03919909, 0.02478455, 0.1438    ,\n",
       "        0.04490909],\n",
       "       [3.11936364, 0.89647273, 1.03694455, 0.02260273, 0.11325455,\n",
       "        0.18454545],\n",
       "       [2.96663636, 0.94229091, 1.04709   , 0.01987545, 0.12198182,\n",
       "        0.09727273],\n",
       "       [2.91572727, 0.8812    , 1.04596273, 0.02096636, 0.12634545,\n",
       "        0.01      ],\n",
       "       [2.86481818, 0.98810909, 1.04145364, 0.02369364, 0.11761818,\n",
       "        0.202     ],\n",
       "       [2.81390909, 0.91174545, 1.04483545, 0.02533   , 0.13943636,\n",
       "        0.02745455],\n",
       "       [3.27209091, 1.03392727, 1.03581727, 0.01933   , 0.0958    ,\n",
       "        0.06236364],\n",
       "       [3.323     , 0.95756364, 1.03469   , 0.02151182, 0.10889091,\n",
       "        0.16709091],\n",
       "       [3.17027273, 1.0492    , 1.04032636, 0.02423909, 0.13070909,\n",
       "        0.14963636],\n",
       "       [3.01754545, 1.00338182, 1.03807182, 0.02205727, 0.10016364,\n",
       "        0.11472727],\n",
       "       [3.06845455, 1.01865455, 1.04258091, 0.02042091, 0.13507273,\n",
       "        0.13218182]])"
      ]
     },
     "execution_count": 45,
     "metadata": {},
     "output_type": "execute_result"
    }
   ],
   "source": [
    "all_params_list = []\n",
    "for (k,v) in zip(param_list_varied_cosmo.keys(),param_list_varied_cosmo.values()):\n",
    "    all_params_list.append(v['array'])\n",
    "\n",
    "AllParams = np.vstack(all_params_list)\n",
    "lhd = pyDOE.lhs(n_params, samples=n_samples, criterion=None)\n",
    "idx = (lhd * n_samples).astype(int)\n",
    "\n",
    "AllCombinations = np.zeros((n_samples, n_params))\n",
    "for i in range(n_params):\n",
    "    AllCombinations[:, i] = AllParams[i][idx[:, i]]\n",
    "AllCombinations"
   ]
  },
  {
   "cell_type": "code",
   "execution_count": 46,
   "id": "74ddd76f",
   "metadata": {},
   "outputs": [],
   "source": [
    "# saving\n",
    "lh_param_dict = {}\n",
    "ip = 0\n",
    "for (k,v) in zip(param_list_varied_cosmo.keys(),param_list_varied_cosmo.values()):\n",
    "    lh_param_dict[v['class_name']] = AllCombinations[:,ip]\n",
    "    ip+=1\n",
    "\n",
    "    \n",
    "np.savez(path_to_cosmopower_dir+'/cosmopower/training/training_data/'+data_dir_name+'/LHS_parameter_file.npz', **lh_param_dict)"
   ]
  },
  {
   "cell_type": "code",
   "execution_count": 47,
   "id": "fe818909",
   "metadata": {},
   "outputs": [],
   "source": [
    "# saving\n",
    "for idx_process in range(n_processes):\n",
    "    params = dict(zip(lh_param_dict.keys(), AllCombinations[idx_process*n_samples_per_process:(idx_process+1)*n_samples_per_process, :].T))\n",
    "    np.savez(folder_path+'/LHS_parameter_file_{}.npz'.format(idx_process+1), **params)"
   ]
  },
  {
   "cell_type": "code",
   "execution_count": null,
   "id": "3cccbf93",
   "metadata": {},
   "outputs": [],
   "source": []
  },
  {
   "cell_type": "markdown",
   "id": "0bdff510",
   "metadata": {},
   "source": [
    "## Generate spectra"
   ]
  },
  {
   "cell_type": "code",
   "execution_count": 6,
   "id": "e73b906c",
   "metadata": {},
   "outputs": [],
   "source": [
    "# the running process (index in job array)\n",
    "# idx_process = sys.argv[1]\n",
    "idx_process = 1\n",
    "\n",
    "lmax = dict_from_yaml_file['theory']['classy']['extra_args']['l_max_scalars']\n",
    "# load parameter file for this process index\n",
    "params_lhs  = np.load(folder_path+'/LHS_parameter_file_{}.npz'.format(idx_process))\n",
    "\n",
    "\n",
    "\n",
    "def spectra_generation(idx_sample):\n",
    "    class_params_dict = {}\n",
    "\n",
    "    for k in params_lhs:\n",
    "        class_params_dict[k] = params_lhs[k][idx_sample]\n",
    "    class_params_dict\n",
    "\n",
    "    cosmo = Class()\n",
    "\n",
    "    # Define cosmology (what is not specified will be set to CLASS default parameters)\n",
    "    params = {'output': 'tCl pCl lCl mPk',\n",
    "              'lensing': 'yes',\n",
    "              'l_max_scalars': lmax\n",
    "              }\n",
    "\n",
    "    cosmo.set(params)\n",
    "    cosmo.set(class_params_dict)\n",
    "    # cosmo.set(classy_precision)\n",
    "    cosmo.compute()\n",
    "    cls = cosmo.lensed_cl(lmax=lmax)\n",
    "\n",
    "    powers  = cls\n",
    "    clTT    = powers['tt'][2:]\n",
    "    clTE    = powers['te'][2:]\n",
    "    clEE    = powers['ee'][2:]\n",
    "    clPP    = powers['pp'][2:]\n",
    "    \n",
    "    derp = {}\n",
    "    for p in derived_params_names:\n",
    "        derp.update(cosmo.get_current_derived_parameters([p]))\n",
    "\n",
    "    cosmo_array_tt = np.hstack(([params_lhs[k][idx_sample] for k in params_lhs],[derp[k] for k in derp.keys()], clTT))\n",
    "    file_tt           = open(folder_path+'/TT/cls_tt_nointerp_{}.dat'.format(idx_process),'ab')\n",
    "    np.savetxt(file_tt, [cosmo_array_tt])\n",
    "    file_tt.close()\n",
    "\n",
    "    cosmo_array_te = np.hstack(([params_lhs[k][idx_sample] for k in params_lhs],[derp[k] for k in derp.keys()], clTE))\n",
    "    file_te           = open(folder_path+'/TE/cls_te_nointerp_{}.dat'.format(idx_process),'ab')\n",
    "    np.savetxt(file_te, [cosmo_array_te])\n",
    "    file_te.close()\n",
    "\n",
    "    cosmo_array_ee = np.hstack(([params_lhs[k][idx_sample] for k in params_lhs],[derp[k] for k in derp.keys()], clEE))\n",
    "    file_ee           = open(folder_path+'/EE/cls_ee_nointerp_{}.dat'.format(idx_process),'ab')\n",
    "    np.savetxt(file_ee, [cosmo_array_ee])\n",
    "    file_ee.close()\n",
    "\n",
    "    cosmo_array_pp = np.hstack(([params_lhs[k][idx_sample] for k in params_lhs],[derp[k] for k in derp.keys()], clPP))\n",
    "    file_pp           = open(folder_path+'/PP/cls_pp_nointerp_{}.dat'.format(idx_process),'ab')\n",
    "    np.savetxt(file_pp, [cosmo_array_pp])\n",
    "    file_pp.close()\n",
    "\n",
    "\n",
    "\n",
    "# loop over parameter sets in parameter file corresponding to the running process\n",
    "for i in range(n_samples_per_process):\n",
    "    spectra_generation(i)"
   ]
  },
  {
   "cell_type": "code",
   "execution_count": 252,
   "id": "3f9a459c",
   "metadata": {},
   "outputs": [],
   "source": [
    "idx_process = 1\n",
    "# file_pp = open(folder_path+'/PP/cls_pp_nointerp_{}.dat'.format(idx_process),'ab')"
   ]
  },
  {
   "cell_type": "code",
   "execution_count": 12,
   "id": "035b662b",
   "metadata": {},
   "outputs": [],
   "source": [
    "f = np.loadtxt(folder_path+'/EE/cls_ee_nointerp_{}.dat'.format(idx_process))"
   ]
  },
  {
   "cell_type": "code",
   "execution_count": 14,
   "id": "c6852042",
   "metadata": {},
   "outputs": [
    {
     "data": {
      "text/plain": [
       "3"
      ]
     },
     "execution_count": 14,
     "metadata": {},
     "output_type": "execute_result"
    }
   ],
   "source": [
    "len(f)"
   ]
  },
  {
   "cell_type": "code",
   "execution_count": null,
   "id": "81c7d365",
   "metadata": {},
   "outputs": [],
   "source": []
  },
  {
   "cell_type": "code",
   "execution_count": null,
   "id": "8dc0879c",
   "metadata": {},
   "outputs": [],
   "source": []
  },
  {
   "cell_type": "code",
   "execution_count": null,
   "id": "55aa9e43",
   "metadata": {},
   "outputs": [],
   "source": []
  },
  {
   "cell_type": "markdown",
   "id": "c30b66b8",
   "metadata": {},
   "source": [
    "# Miscellaneous"
   ]
  },
  {
   "cell_type": "code",
   "execution_count": 145,
   "id": "c4ae7607",
   "metadata": {},
   "outputs": [
    {
     "data": {
      "text/plain": [
       "{'non linear': 'halofit',\n",
       " 'N_ncdm': 1,\n",
       " 'N_ur': 2.0328,\n",
       " 'P_k_max_h/Mpc': 100.0,\n",
       " 'z_pk': 1.0,\n",
       " 'l_max_scalars': 11000,\n",
       " 'neglect_CMB_sources_below_visibility': 1e-30,\n",
       " 'transfer_neglect_late_source': 3000.0,\n",
       " 'halofit_k_per_decade': 3000.0,\n",
       " 'l_switch_limber': 40.0,\n",
       " 'accurate_lensing': 1,\n",
       " 'num_mu_minus_lmax': 1000.0,\n",
       " 'delta_l_max': 1000.0,\n",
       " 'k_min_tau0': 0.002,\n",
       " 'k_max_tau0_over_l_max': 3.0,\n",
       " 'k_step_sub': 0.015,\n",
       " 'k_step_super': 0.0001,\n",
       " 'k_step_super_reduction': 0.1}"
      ]
     },
     "execution_count": 145,
     "metadata": {},
     "output_type": "execute_result"
    }
   ],
   "source": [
    "classy_precision = dict_from_yaml_file['theory']['classy']['extra_args']\n",
    "classy_precision"
   ]
  },
  {
   "cell_type": "code",
   "execution_count": 49,
   "id": "716dc0f0",
   "metadata": {},
   "outputs": [],
   "source": [
    "cosmo = Class()\n",
    "\n",
    "# Define cosmology (what is not specified will be set to CLASS default parameters)\n",
    "params = {'output': 'tCl pCl lCl mPk',\n",
    "          'lensing': 'yes',\n",
    "          'l_max_scalars': 11000\n",
    "          }\n",
    "\n",
    "cosmo.set(params)\n",
    "# cosmo.set(classy_precision)\n",
    "cosmo.compute()\n",
    "cls = cosmo.lensed_cl(lmax=2508)\n",
    "spectrum_class = cls['te'][2:]\n",
    "cosmo.struct_cleanup()\n",
    "cosmo.empty()"
   ]
  },
  {
   "cell_type": "code",
   "execution_count": 100,
   "id": "91f5f32d",
   "metadata": {},
   "outputs": [
    {
     "data": {
      "text/plain": [
       "{'tt': array([0.00000000e+00, 0.00000000e+00, 1.56602483e-10, ...,\n",
       "        9.97822252e-18, 9.94249126e-18, 9.90701731e-18]),\n",
       " 'ee': array([0.00000000e+00, 0.00000000e+00, 7.65424067e-15, ...,\n",
       "        3.75760292e-19, 3.75774127e-19, 3.75781028e-19]),\n",
       " 'te': array([ 0.00000000e+00,  0.00000000e+00,  5.04243172e-13, ...,\n",
       "        -4.00527435e-19, -4.01059096e-19, -4.01644763e-19]),\n",
       " 'bb': array([0.00000000e+00, 0.00000000e+00, 2.51434604e-19, ...,\n",
       "        3.80519722e-21, 3.79759860e-21, 3.79001634e-21]),\n",
       " 'pp': array([0.00000000e+00, 0.00000000e+00, 9.03616395e-09, ...,\n",
       "        1.55528788e-22, 1.55147820e-22, 1.54767930e-22]),\n",
       " 'tp': array([0.00000000e+00, 0.00000000e+00, 5.08391605e-10, ...,\n",
       "        2.60697120e-23, 2.61610541e-23, 2.62521304e-23]),\n",
       " 'ell': array([   0,    1,    2, ..., 2506, 2507, 2508])}"
      ]
     },
     "execution_count": 100,
     "metadata": {},
     "output_type": "execute_result"
    }
   ],
   "source": [
    "cls\n"
   ]
  },
  {
   "cell_type": "code",
   "execution_count": 278,
   "id": "89fcff44",
   "metadata": {},
   "outputs": [
    {
     "data": {
      "text/plain": [
       "dict_keys(['logA', 'A_s', 'n_s', 'theta_s_1e2', '100*theta_s', 'H0', 'omega_b', 'omega_cdm', 'Omega_m', 'omegamh2', 'm_ncdm', 'Omega_Lambda', 'YHe', 'tau_reio', 'yp2', 'z_reio', 'sigma8', 's8h5', 's8omegamp5', 's8omegamp25', 'A', 'clamp', 'age', 'rs_drag'])"
      ]
     },
     "execution_count": 278,
     "metadata": {},
     "output_type": "execute_result"
    }
   ],
   "source": [
    "dict_from_yaml_file['params'].keys()"
   ]
  },
  {
   "cell_type": "code",
   "execution_count": 6,
   "id": "f6c286b0",
   "metadata": {},
   "outputs": [],
   "source": [
    "# the running process (index in job array)\n",
    "# idx_process = sys.argv[1]\n",
    "idx_process = 1\n",
    "\n",
    "lmax = dict_from_yaml_file['theory']['classy']['extra_args']['l_max_scalars']\n",
    "# load parameter file for this process index\n",
    "params_lhs  = np.load(folder_path+'/LHS_parameter_file_{}.npz'.format(idx_process))\n",
    "\n",
    "\n",
    "idx_sample = 0\n",
    "# def spectra_generation(idx_sample):\n",
    "class_params_dict = {}\n",
    "\n",
    "for k in params_lhs:\n",
    "    class_params_dict[k] = params_lhs[k][idx_sample]\n",
    "class_params_dict\n",
    "\n",
    "cosmo = Class()\n",
    "\n",
    "# Define cosmology (what is not specified will be set to CLASS default parameters)\n",
    "params = {'output': 'tCl pCl lCl mPk',\n",
    "          'lensing': 'yes',\n",
    "          'l_max_scalars': lmax\n",
    "          }\n",
    "\n",
    "cosmo.set(params)\n",
    "cosmo.set(class_params_dict)\n",
    "# cosmo.set(classy_precision)\n",
    "cosmo.compute()\n",
    "cls = cosmo.lensed_cl(lmax=lmax)"
   ]
  },
  {
   "cell_type": "code",
   "execution_count": 9,
   "id": "c984e3dc",
   "metadata": {},
   "outputs": [],
   "source": [
    "powers  = cls\n",
    "clTT    = powers['tt'][2:]\n",
    "clTE    = powers['te'][2:]\n",
    "clEE    = powers['ee'][2:]\n",
    "clPP    = powers['pp'][2:]\n",
    "\n",
    "derp = {}\n",
    "for p in derived_params_names:\n",
    "    derp.update(cosmo.get_current_derived_parameters([p]))\n",
    "\n",
    "cosmo_array_tt = np.hstack(([params_lhs[k][idx_sample] for k in params_lhs],[derp[k] for k in derp.keys()], clTT))\n",
    "file_tt           = open(folder_path+'/TT/cls_tt_nointerp_{}.dat'.format(idx_process),'ab')\n",
    "np.savetxt(file_tt, [cosmo_array_tt])\n",
    "file_tt.close()"
   ]
  },
  {
   "cell_type": "code",
   "execution_count": 10,
   "id": "29b97313",
   "metadata": {},
   "outputs": [],
   "source": [
    "f = np.loadtxt(folder_path+'/TT/cls_tt_nointerp_{}.dat'.format(idx_process))"
   ]
  },
  {
   "cell_type": "code",
   "execution_count": 13,
   "id": "33d24669",
   "metadata": {},
   "outputs": [
    {
     "data": {
      "text/plain": [
       "11018"
      ]
     },
     "execution_count": 13,
     "metadata": {},
     "output_type": "execute_result"
    }
   ],
   "source": [
    "len(f)\n"
   ]
  },
  {
   "cell_type": "code",
   "execution_count": null,
   "id": "54d18c3b",
   "metadata": {},
   "outputs": [],
   "source": []
  }
 ],
 "metadata": {
  "kernelspec": {
   "display_name": "Python 3 (ipykernel)",
   "language": "python",
   "name": "python3"
  },
  "language_info": {
   "codemirror_mode": {
    "name": "ipython",
    "version": 3
   },
   "file_extension": ".py",
   "mimetype": "text/x-python",
   "name": "python",
   "nbconvert_exporter": "python",
   "pygments_lexer": "ipython3",
   "version": "3.8.5"
  }
 },
 "nbformat": 4,
 "nbformat_minor": 5
}
